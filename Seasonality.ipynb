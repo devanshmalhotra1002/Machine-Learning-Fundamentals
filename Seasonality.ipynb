{
 "cells": [
  {
   "cell_type": "markdown",
   "id": "ffa29cae",
   "metadata": {},
   "source": [
    "## SEASONALITY\n",
    "    1. Seasonality is presence of repetitive patterns in the dataset at regular intervals like yearly, monthly or weekly.\n",
    "    2. For example - Ice cream sales go up every summer and comes down every winter. This trend is seen every year that can hinder the data analysis process.\n",
    "    3. Seasonality can negatively impact the performance of our machine learning model.\n",
    "    4. Seasonality can be removed by multiplying every value with a multiplication factor.\n",
    "    5.Multiplication factor will be different for different intervals like summers and winters."
   ]
  },
  {
   "cell_type": "code",
   "execution_count": 1,
   "id": "720e69de",
   "metadata": {},
   "outputs": [],
   "source": [
    "import pandas as pd"
   ]
  },
  {
   "cell_type": "code",
   "execution_count": 2,
   "id": "bbd63bd3",
   "metadata": {},
   "outputs": [],
   "source": [
    "seasonality = {'Year1':[21,31,44,43,32,19],\n",
    "               'Year2':[23,29,42,45,33,24],\n",
    "               'Year3':[19,33,46,41,30,20]}"
   ]
  },
  {
   "cell_type": "code",
   "execution_count": 3,
   "id": "b51a385b",
   "metadata": {},
   "outputs": [],
   "source": [
    "#months = ['Month1','Month2','Month3','Month4','Month5','Month6']\n",
    "df2 = pd.DataFrame(data=seasonality)"
   ]
  },
  {
   "cell_type": "code",
   "execution_count": 4,
   "id": "c96055ca",
   "metadata": {},
   "outputs": [
    {
     "data": {
      "text/html": [
       "<div>\n",
       "<style scoped>\n",
       "    .dataframe tbody tr th:only-of-type {\n",
       "        vertical-align: middle;\n",
       "    }\n",
       "\n",
       "    .dataframe tbody tr th {\n",
       "        vertical-align: top;\n",
       "    }\n",
       "\n",
       "    .dataframe thead th {\n",
       "        text-align: right;\n",
       "    }\n",
       "</style>\n",
       "<table border=\"1\" class=\"dataframe\">\n",
       "  <thead>\n",
       "    <tr style=\"text-align: right;\">\n",
       "      <th></th>\n",
       "      <th>Year1</th>\n",
       "      <th>Year2</th>\n",
       "      <th>Year3</th>\n",
       "    </tr>\n",
       "  </thead>\n",
       "  <tbody>\n",
       "    <tr>\n",
       "      <th>0</th>\n",
       "      <td>21</td>\n",
       "      <td>23</td>\n",
       "      <td>19</td>\n",
       "    </tr>\n",
       "    <tr>\n",
       "      <th>1</th>\n",
       "      <td>31</td>\n",
       "      <td>29</td>\n",
       "      <td>33</td>\n",
       "    </tr>\n",
       "    <tr>\n",
       "      <th>2</th>\n",
       "      <td>44</td>\n",
       "      <td>42</td>\n",
       "      <td>46</td>\n",
       "    </tr>\n",
       "    <tr>\n",
       "      <th>3</th>\n",
       "      <td>43</td>\n",
       "      <td>45</td>\n",
       "      <td>41</td>\n",
       "    </tr>\n",
       "    <tr>\n",
       "      <th>4</th>\n",
       "      <td>32</td>\n",
       "      <td>33</td>\n",
       "      <td>30</td>\n",
       "    </tr>\n",
       "    <tr>\n",
       "      <th>5</th>\n",
       "      <td>19</td>\n",
       "      <td>24</td>\n",
       "      <td>20</td>\n",
       "    </tr>\n",
       "  </tbody>\n",
       "</table>\n",
       "</div>"
      ],
      "text/plain": [
       "   Year1  Year2  Year3\n",
       "0     21     23     19\n",
       "1     31     29     33\n",
       "2     44     42     46\n",
       "3     43     45     41\n",
       "4     32     33     30\n",
       "5     19     24     20"
      ]
     },
     "execution_count": 4,
     "metadata": {},
     "output_type": "execute_result"
    }
   ],
   "source": [
    "df2"
   ]
  },
  {
   "cell_type": "code",
   "execution_count": 5,
   "id": "eba33696",
   "metadata": {},
   "outputs": [],
   "source": [
    "months = ['Month1','Month2','Month3','Month4','Month5','Month6',]\n",
    "index = pd.Index(months)\n",
    "df2 = df2.set_index(index)"
   ]
  },
  {
   "cell_type": "code",
   "execution_count": 6,
   "id": "73b95248",
   "metadata": {},
   "outputs": [
    {
     "data": {
      "text/html": [
       "<div>\n",
       "<style scoped>\n",
       "    .dataframe tbody tr th:only-of-type {\n",
       "        vertical-align: middle;\n",
       "    }\n",
       "\n",
       "    .dataframe tbody tr th {\n",
       "        vertical-align: top;\n",
       "    }\n",
       "\n",
       "    .dataframe thead th {\n",
       "        text-align: right;\n",
       "    }\n",
       "</style>\n",
       "<table border=\"1\" class=\"dataframe\">\n",
       "  <thead>\n",
       "    <tr style=\"text-align: right;\">\n",
       "      <th></th>\n",
       "      <th>Year1</th>\n",
       "      <th>Year2</th>\n",
       "      <th>Year3</th>\n",
       "    </tr>\n",
       "  </thead>\n",
       "  <tbody>\n",
       "    <tr>\n",
       "      <th>Month1</th>\n",
       "      <td>21</td>\n",
       "      <td>23</td>\n",
       "      <td>19</td>\n",
       "    </tr>\n",
       "    <tr>\n",
       "      <th>Month2</th>\n",
       "      <td>31</td>\n",
       "      <td>29</td>\n",
       "      <td>33</td>\n",
       "    </tr>\n",
       "    <tr>\n",
       "      <th>Month3</th>\n",
       "      <td>44</td>\n",
       "      <td>42</td>\n",
       "      <td>46</td>\n",
       "    </tr>\n",
       "    <tr>\n",
       "      <th>Month4</th>\n",
       "      <td>43</td>\n",
       "      <td>45</td>\n",
       "      <td>41</td>\n",
       "    </tr>\n",
       "    <tr>\n",
       "      <th>Month5</th>\n",
       "      <td>32</td>\n",
       "      <td>33</td>\n",
       "      <td>30</td>\n",
       "    </tr>\n",
       "    <tr>\n",
       "      <th>Month6</th>\n",
       "      <td>19</td>\n",
       "      <td>24</td>\n",
       "      <td>20</td>\n",
       "    </tr>\n",
       "  </tbody>\n",
       "</table>\n",
       "</div>"
      ],
      "text/plain": [
       "        Year1  Year2  Year3\n",
       "Month1     21     23     19\n",
       "Month2     31     29     33\n",
       "Month3     44     42     46\n",
       "Month4     43     45     41\n",
       "Month5     32     33     30\n",
       "Month6     19     24     20"
      ]
     },
     "execution_count": 6,
     "metadata": {},
     "output_type": "execute_result"
    }
   ],
   "source": [
    "df2"
   ]
  },
  {
   "cell_type": "code",
   "execution_count": 7,
   "id": "35b779a9",
   "metadata": {},
   "outputs": [
    {
     "name": "stdout",
     "output_type": "stream",
     "text": [
      "Year1    31.67\n",
      "Year2    32.67\n",
      "Year3    31.50\n",
      "dtype: float64\n"
     ]
    }
   ],
   "source": [
    "col_mean = round(df2.mean(axis=0),2)\n",
    "print(col_mean)"
   ]
  },
  {
   "cell_type": "code",
   "execution_count": 8,
   "id": "c96706fd",
   "metadata": {},
   "outputs": [
    {
     "name": "stdout",
     "output_type": "stream",
     "text": [
      "Month1    21.00\n",
      "Month2    31.00\n",
      "Month3    44.00\n",
      "Month4    43.00\n",
      "Month5    31.67\n",
      "Month6    21.00\n",
      "dtype: float64\n"
     ]
    }
   ],
   "source": [
    "row_mean = round(df2.mean(axis=1),2)\n",
    "print(row_mean)"
   ]
  },
  {
   "cell_type": "code",
   "execution_count": 9,
   "id": "f74a739b",
   "metadata": {},
   "outputs": [],
   "source": [
    "df2['Year1'] = round(df2['Year1']*(col_mean[0]/row_mean),2)\n",
    "df2['Year2'] = round(df2['Year2']*(col_mean[1]/row_mean),2)\n",
    "df2['Year3'] = round(df2['Year3']*(col_mean[2]/row_mean),2)"
   ]
  },
  {
   "cell_type": "code",
   "execution_count": 10,
   "id": "45409321",
   "metadata": {},
   "outputs": [
    {
     "data": {
      "text/html": [
       "<div>\n",
       "<style scoped>\n",
       "    .dataframe tbody tr th:only-of-type {\n",
       "        vertical-align: middle;\n",
       "    }\n",
       "\n",
       "    .dataframe tbody tr th {\n",
       "        vertical-align: top;\n",
       "    }\n",
       "\n",
       "    .dataframe thead th {\n",
       "        text-align: right;\n",
       "    }\n",
       "</style>\n",
       "<table border=\"1\" class=\"dataframe\">\n",
       "  <thead>\n",
       "    <tr style=\"text-align: right;\">\n",
       "      <th></th>\n",
       "      <th>Year1</th>\n",
       "      <th>Year2</th>\n",
       "      <th>Year3</th>\n",
       "    </tr>\n",
       "  </thead>\n",
       "  <tbody>\n",
       "    <tr>\n",
       "      <th>Month1</th>\n",
       "      <td>31.67</td>\n",
       "      <td>35.78</td>\n",
       "      <td>28.50</td>\n",
       "    </tr>\n",
       "    <tr>\n",
       "      <th>Month2</th>\n",
       "      <td>31.67</td>\n",
       "      <td>30.56</td>\n",
       "      <td>33.53</td>\n",
       "    </tr>\n",
       "    <tr>\n",
       "      <th>Month3</th>\n",
       "      <td>31.67</td>\n",
       "      <td>31.18</td>\n",
       "      <td>32.93</td>\n",
       "    </tr>\n",
       "    <tr>\n",
       "      <th>Month4</th>\n",
       "      <td>31.67</td>\n",
       "      <td>34.19</td>\n",
       "      <td>30.03</td>\n",
       "    </tr>\n",
       "    <tr>\n",
       "      <th>Month5</th>\n",
       "      <td>32.00</td>\n",
       "      <td>34.04</td>\n",
       "      <td>29.84</td>\n",
       "    </tr>\n",
       "    <tr>\n",
       "      <th>Month6</th>\n",
       "      <td>28.65</td>\n",
       "      <td>37.34</td>\n",
       "      <td>30.00</td>\n",
       "    </tr>\n",
       "  </tbody>\n",
       "</table>\n",
       "</div>"
      ],
      "text/plain": [
       "        Year1  Year2  Year3\n",
       "Month1  31.67  35.78  28.50\n",
       "Month2  31.67  30.56  33.53\n",
       "Month3  31.67  31.18  32.93\n",
       "Month4  31.67  34.19  30.03\n",
       "Month5  32.00  34.04  29.84\n",
       "Month6  28.65  37.34  30.00"
      ]
     },
     "execution_count": 10,
     "metadata": {},
     "output_type": "execute_result"
    }
   ],
   "source": [
    "df2.head(6)"
   ]
  }
 ],
 "metadata": {
  "kernelspec": {
   "display_name": "Python 3 (ipykernel)",
   "language": "python",
   "name": "python3"
  },
  "language_info": {
   "codemirror_mode": {
    "name": "ipython",
    "version": 3
   },
   "file_extension": ".py",
   "mimetype": "text/x-python",
   "name": "python",
   "nbconvert_exporter": "python",
   "pygments_lexer": "ipython3",
   "version": "3.8.5"
  }
 },
 "nbformat": 4,
 "nbformat_minor": 5
}
